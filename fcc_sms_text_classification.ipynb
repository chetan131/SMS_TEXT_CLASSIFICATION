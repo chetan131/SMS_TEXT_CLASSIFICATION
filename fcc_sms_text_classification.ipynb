{
  "cells": [
    {
      "cell_type": "markdown",
      "metadata": {
        "id": "view-in-github",
        "colab_type": "text"
      },
      "source": [
        "<a href=\"https://colab.research.google.com/github/chetan131/SMS_TEXT_CLASSIFICATION/blob/main/fcc_sms_text_classification.ipynb\" target=\"_parent\"><img src=\"https://colab.research.google.com/assets/colab-badge.svg\" alt=\"Open In Colab\"/></a>"
      ]
    },
    {
      "cell_type": "code",
      "execution_count": null,
      "metadata": {
        "id": "8RZOuS9LWQvv"
      },
      "outputs": [],
      "source": [
        "# import libraries\n",
        "try:\n",
        "  # %tensorflow_version only exists in Colab.\n",
        "  !pip install tf-nightly\n",
        "except Exception:\n",
        "  pass\n",
        "import tensorflow as tf\n",
        "import pandas as pd\n",
        "from tensorflow import keras\n",
        "!pip install tensorflow-datasets\n",
        "import tensorflow_datasets as tfds\n",
        "import numpy as np\n",
        "import matplotlib.pyplot as plt\n",
        "\n",
        "print(tf.__version__)"
      ]
    },
    {
      "cell_type": "code",
      "execution_count": null,
      "metadata": {
        "id": "lMHwYXHXCar3"
      },
      "outputs": [],
      "source": [
        "# get data files\n",
        "!wget https://cdn.freecodecamp.org/project-data/sms/train-data.tsv\n",
        "!wget https://cdn.freecodecamp.org/project-data/sms/valid-data.tsv\n",
        "\n",
        "train_file_path = \"train-data.tsv\"\n",
        "test_file_path = \"valid-data.tsv\""
      ]
    },
    {
      "cell_type": "code",
      "execution_count": null,
      "metadata": {
        "id": "g_h508FEClxO"
      },
      "outputs": [],
      "source": [
        "train_file_path = \"train-data.tsv\"\n",
        "test_file_path = \"valid-data.tsv\"\n",
        "\n",
        "# Read the training and test data\n",
        "train_data = pd.read_csv(train_file_path, sep='\\t', header=None, names=[\"label\", \"message\"])\n",
        "test_data = pd.read_csv(test_file_path, sep='\\t', header=None, names=[\"label\", \"message\"])\n",
        "\n",
        "# Check the first few rows of the training data\n",
        "print(train_data.head())"
      ]
    },
    {
      "cell_type": "code",
      "execution_count": null,
      "metadata": {
        "id": "zOMKywn4zReN"
      },
      "outputs": [],
      "source": [
        "import re\n",
        "def preprocess_text(text):\n",
        "    # Lowercase the text\n",
        "    text = text.lower()\n",
        "    # Remove non-alphanumeric characters\n",
        "    text = re.sub(r'[^a-zA-Z0-9\\s]', '', text)\n",
        "    return text\n",
        "\n",
        "train_data['message'] = train_data['message'].apply(preprocess_text)\n",
        "test_data['message'] = test_data['message'].apply(preprocess_text)\n",
        "\n",
        "# Convert labels to numeric (ham -> 0, spam -> 1)\n",
        "train_data['label'] = train_data['label'].map({'ham': 0, 'spam': 1})\n",
        "test_data['label'] = test_data['label'].map({'ham': 0, 'spam': 1})\n",
        "\n",
        "# Tokenization and Padding\n",
        "from tensorflow.keras.preprocessing.text import Tokenizer\n",
        "from tensorflow.keras.preprocessing.sequence import pad_sequences\n",
        "\n",
        "# Set up tokenizer and fit on the training data\n",
        "tokenizer = Tokenizer(num_words=5000, oov_token=\"<OOV>\")\n",
        "tokenizer.fit_on_texts(train_data['message'])\n",
        "\n",
        "# Convert text to sequences\n",
        "train_sequences = tokenizer.texts_to_sequences(train_data['message'])\n",
        "test_sequences = tokenizer.texts_to_sequences(test_data['message'])\n",
        "\n",
        "# Pad the sequences to ensure uniform length\n",
        "max_length = 100  # Limit the length to 100 words for each message\n",
        "train_sequences = pad_sequences(train_sequences, maxlen=max_length, padding='post', truncating='post')\n",
        "test_sequences = pad_sequences(test_sequences, maxlen=max_length, padding='post', truncating='post')\n",
        "\n",
        "# Create the model\n",
        "model = keras.Sequential([\n",
        "    keras.layers.Embedding(input_dim=5000, output_dim=64, input_length=max_length),\n",
        "    keras.layers.GlobalAveragePooling1D(),\n",
        "    keras.layers.Dense(64, activation='relu'),\n",
        "    keras.layers.Dense(1, activation='sigmoid')  # Sigmoid for binary classification (ham or spam)\n",
        "])\n",
        "\n",
        "# Compile the model\n",
        "model.compile(optimizer='adam', loss='binary_crossentropy', metrics=['accuracy'])\n",
        "\n",
        "# Train the model\n",
        "model.fit(train_sequences, train_data['label'], epochs=5, batch_size=32, validation_data=(test_sequences, test_data['label']))\n"
      ]
    },
    {
      "cell_type": "code",
      "execution_count": null,
      "metadata": {
        "id": "J9tD9yACG6M9"
      },
      "outputs": [],
      "source": [
        "def predict_message(pred_text):\n",
        "    # Preprocess the input text\n",
        "    pred_text = preprocess_text(pred_text)\n",
        "    # Convert the text to sequence\n",
        "    pred_sequence = tokenizer.texts_to_sequences([pred_text])\n",
        "    # Pad the sequence\n",
        "    pred_sequence = pad_sequences(pred_sequence, maxlen=max_length, padding='post', truncating='post')\n",
        "\n",
        "    # Get the prediction probability\n",
        "    probability = model.predict(pred_sequence)[0][0]\n",
        "    # Classify as 'ham' or 'spam' based on probability threshold (0.5)\n",
        "    label = 'ham' if probability < 0.5 else 'spam'\n",
        "\n",
        "    return [probability, label]\n",
        "\n",
        "# Test the prediction function\n",
        "pred_text = \"how are you doing today?\"\n",
        "prediction = predict_message(pred_text)\n",
        "print(prediction)\n"
      ]
    },
    {
      "cell_type": "code",
      "execution_count": null,
      "metadata": {
        "id": "Dxotov85SjsC"
      },
      "outputs": [],
      "source": [
        "def test_predictions():\n",
        "    test_messages = [\"how are you doing today\",\n",
        "                     \"sale today! to stop texts call 98912460324\",\n",
        "                     \"i dont want to go. can we try it a different day? available sat\",\n",
        "                     \"our new mobile video service is live. just install on your phone to start watching.\",\n",
        "                     \"you have won £1000 cash! call to claim your prize.\",\n",
        "                     \"i'll bring it tomorrow. don't forget the milk.\",\n",
        "                     \"wow, is your arm alright. that happened to me one time too\"\n",
        "                    ]\n",
        "    test_answers = [\"ham\", \"spam\", \"ham\", \"spam\", \"spam\", \"ham\", \"ham\"]\n",
        "    passed = True\n",
        "\n",
        "    for msg, ans in zip(test_messages, test_answers):\n",
        "        prediction = predict_message(msg)\n",
        "        if prediction[1] != ans:\n",
        "            passed = False\n",
        "\n",
        "    if passed:\n",
        "        print(\"You passed the challenge. Great job!\")\n",
        "    else:\n",
        "        print(\"You haven't passed yet. Keep trying.\")\n",
        "\n",
        "test_predictions()"
      ]
    }
  ],
  "metadata": {
    "colab": {
      "name": "fcc_sms_text_classification.ipynb",
      "private_outputs": true,
      "provenance": [],
      "toc_visible": true,
      "include_colab_link": true
    },
    "kernelspec": {
      "display_name": "Python 3",
      "name": "python3"
    },
    "language_info": {}
  },
  "nbformat": 4,
  "nbformat_minor": 0
}